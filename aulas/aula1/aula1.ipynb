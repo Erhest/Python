{
  "cells": [
    {
      "cell_type": "code",
      "execution_count": null,
      "metadata": {
        "colab": {
          "base_uri": "https://localhost:8080/"
        },
        "id": "zfVR5uLLiX0w",
        "outputId": "9a45f0b3-ed83-4fdd-ada5-73087193d091"
      },
      "outputs": [
        {
          "name": "stdout",
          "output_type": "stream",
          "text": [
            "Hello, World!\n"
          ]
        }
      ],
      "source": [
        "print(\"Hello, World!\")"
      ]
    },
    {
      "cell_type": "code",
      "execution_count": null,
      "metadata": {
        "colab": {
          "base_uri": "https://localhost:8080/"
        },
        "id": "1bus0551j5I8",
        "outputId": "3df99a9c-7d7d-44d7-84b4-fbbfb1b809b8"
      },
      "outputs": [
        {
          "name": "stdout",
          "output_type": "stream",
          "text": [
            "Aprendendo Python!\n"
          ]
        }
      ],
      "source": [
        "print('Aprendendo Python!')"
      ]
    },
    {
      "cell_type": "code",
      "execution_count": null,
      "metadata": {
        "colab": {
          "base_uri": "https://localhost:8080/"
        },
        "id": "QPKBpQMekDnO",
        "outputId": "c13d36d9-7c06-413a-b809-95cdfdd5c323"
      },
      "outputs": [
        {
          "name": "stdout",
          "output_type": "stream",
          "text": [
            "False\n"
          ]
        }
      ],
      "source": [
        "# String, Int, FloatDouble, Boolean\n",
        "nota1 = 10\n",
        "_nota1 = 10.5\n",
        "A = 1\n",
        "a = 2\n",
        "ação = '10'\n",
        "jogar = True\n",
        "dançar = False\n",
        "\n",
        "print(dançar)"
      ]
    },
    {
      "cell_type": "code",
      "execution_count": null,
      "metadata": {
        "colab": {
          "base_uri": "https://localhost:8080/"
        },
        "id": "w3NEx3wDk9dd",
        "outputId": "ca5e10dd-3a00-4210-a4e1-af7aef0298fc"
      },
      "outputs": [
        {
          "name": "stdout",
          "output_type": "stream",
          "text": [
            "3.5\n"
          ]
        }
      ],
      "source": [
        "a = 1\n",
        "b = 2.5\n",
        "equa = (a + b) * 3 / (a + 2)\n",
        "print(equa)"
      ]
    },
    {
      "cell_type": "code",
      "execution_count": null,
      "metadata": {
        "colab": {
          "base_uri": "https://localhost:8080/"
        },
        "id": "2plv8J-cls3u",
        "outputId": "9461d88a-eff1-4364-b5ea-423d7a7c236e"
      },
      "outputs": [
        {
          "data": {
            "text/plain": [
              "float"
            ]
          },
          "execution_count": 7,
          "metadata": {},
          "output_type": "execute_result"
        }
      ],
      "source": [
        "type(equa)"
      ]
    },
    {
      "cell_type": "code",
      "execution_count": null,
      "metadata": {
        "colab": {
          "base_uri": "https://localhost:8080/"
        },
        "id": "p_ihtvhwlvcV",
        "outputId": "ef66cd23-097a-45b6-d5bd-73d91cc5631d"
      },
      "outputs": [
        {
          "data": {
            "text/plain": [
              "int"
            ]
          },
          "execution_count": 8,
          "metadata": {},
          "output_type": "execute_result"
        }
      ],
      "source": [
        "type(a)"
      ]
    },
    {
      "cell_type": "code",
      "execution_count": null,
      "metadata": {
        "colab": {
          "base_uri": "https://localhost:8080/"
        },
        "id": "FjC50bUFlzt2",
        "outputId": "47dc1290-3650-477f-af61-4f5de306e22f"
      },
      "outputs": [
        {
          "data": {
            "text/plain": [
              "bool"
            ]
          },
          "execution_count": 9,
          "metadata": {},
          "output_type": "execute_result"
        }
      ],
      "source": [
        "type(dançar)"
      ]
    },
    {
      "cell_type": "code",
      "execution_count": null,
      "metadata": {
        "colab": {
          "base_uri": "https://localhost:8080/"
        },
        "id": "ruxM_Yw1l24N",
        "outputId": "3ca66c48-9786-405f-9ed1-b55393a62bc6"
      },
      "outputs": [
        {
          "data": {
            "text/plain": [
              "str"
            ]
          },
          "execution_count": 10,
          "metadata": {},
          "output_type": "execute_result"
        }
      ],
      "source": [
        "type(ação)"
      ]
    },
    {
      "cell_type": "code",
      "execution_count": null,
      "metadata": {
        "colab": {
          "base_uri": "https://localhost:8080/"
        },
        "id": "lqTMfc5Dl9Jd",
        "outputId": "ebc39bcd-49c1-42fa-fe99-4093b824cc14"
      },
      "outputs": [
        {
          "name": "stdout",
          "output_type": "stream",
          "text": [
            "Digite um numero -> 10\n"
          ]
        },
        {
          "data": {
            "text/plain": [
              "str"
            ]
          },
          "execution_count": 13,
          "metadata": {},
          "output_type": "execute_result"
        }
      ],
      "source": [
        "txt = input('Digite um numero -> ')\n",
        "type(txt)"
      ]
    },
    {
      "cell_type": "markdown",
      "metadata": {
        "id": "cUFZ1TGcjEZF"
      },
      "source": []
    },
    {
      "cell_type": "code",
      "execution_count": null,
      "metadata": {
        "colab": {
          "base_uri": "https://localhost:8080/"
        },
        "id": "ozohCaNtme_H",
        "outputId": "96800c6e-2b59-437d-8489-27d9e73c1ba5"
      },
      "outputs": [
        {
          "name": "stdout",
          "output_type": "stream",
          "text": [
            "<class 'int'>\n",
            "<class 'float'>\n",
            "<class 'str'>\n"
          ]
        }
      ],
      "source": [
        "# Converter Valores\n",
        "x = int(txt)\n",
        "print(type(x))\n",
        "x = float(txt)\n",
        "print(type(x))\n",
        "x = str(type(txt))\n",
        "print(type(x)) \n",
        "# usar txt no lugar do x também estaria correto\n",
        "# print = str(type(txt))"
      ]
    },
    {
      "cell_type": "code",
      "execution_count": null,
      "metadata": {
        "colab": {
          "base_uri": "https://localhost:8080/",
          "height": 35
        },
        "id": "8lIiYTwjmo-l",
        "outputId": "354f17d0-3297-4c09-b48a-1aef3d3cdb24"
      },
      "outputs": [
        {
          "data": {
            "application/vnd.google.colaboratory.intrinsic+json": {
              "type": "string"
            },
            "text/plain": [
              "'\\nComentar Em \\nVarias Linhas\\n\\n'"
            ]
          },
          "execution_count": 16,
          "metadata": {},
          "output_type": "execute_result"
        }
      ],
      "source": [
        "# Comentário\n",
        "'''\n",
        "Comentar Em \n",
        "Varias Linhas\n",
        "\n",
        "'''"
      ]
    },
    {
      "cell_type": "markdown",
      "metadata": {
        "id": "JHl9pBTin2zc"
      },
      "source": [
        "# Matemática Simples"
      ]
    },
    {
      "cell_type": "code",
      "execution_count": null,
      "metadata": {
        "colab": {
          "base_uri": "https://localhost:8080/"
        },
        "id": "6lgzIVqVn9E-",
        "outputId": "f6a5bd34-64f5-4fc9-fb37-c275803ced2f"
      },
      "outputs": [
        {
          "name": "stdout",
          "output_type": "stream",
          "text": [
            "25\n",
            "20\n"
          ]
        }
      ],
      "source": [
        "# Exibir a area do quadrado com lado de 5 cm\n",
        "'''\n",
        "  q = l x l // l°2 \n",
        "'''\n",
        "l = 12 #criamos uma variavel\n",
        "quadrado = l ** 2 # quadrado = l * l\n",
        "perimetroquadra = l *4\n",
        "print(quadrado)\n",
        "print(perimetroquadra)\n"
      ]
    },
    {
      "cell_type": "code",
      "execution_count": null,
      "metadata": {
        "colab": {
          "base_uri": "https://localhost:8080/"
        },
        "id": "myJImZNzpV4n",
        "outputId": "8d261d5c-c506-48d9-ce87-bd69d21327b3"
      },
      "outputs": [
        {
          "name": "stdout",
          "output_type": "stream",
          "text": [
            "Primeira Area:  64\n",
            "12.0\n",
            "Segunda Area:  144.0\n",
            "125.0 %\n"
          ]
        }
      ],
      "source": [
        "# O lado de um quadrado mede 8 cm. Caso o comprimento desse valor seja aumentado em 50% do seu valor, em quantos por centos aumenta a área do novo quadrado em relação a área do quadrado inicial?\n",
        "'''Formula\n",
        "  a = l ** 2\n",
        "'''\n",
        "l = 8\n",
        "area = l ** 2\n",
        "print('Primeira Area: ', area)\n",
        "\n",
        "##\n",
        "x = 8\n",
        "l = x * 0.5 + (x) # l = x * 1.5  //  # l = (x / 2) + x\n",
        "areaNova = l ** 2\n",
        "print(l)\n",
        "print('Segunda Area: ', areaNova)\n",
        "\n",
        "## Diferença de tamanho entre o primeiro o primeiro e o segundo\n",
        "diferença =  (areaNova / area - 1) * 100\n",
        "print(\"A diferença é de: \", diferença, \"%\" )\n",
        "\n"
      ]
    },
    {
      "cell_type": "code",
      "execution_count": null,
      "metadata": {
        "colab": {
          "base_uri": "https://localhost:8080/"
        },
        "id": "P0dl00xrtt_p",
        "outputId": "c9f8539e-d30f-4979-ca48-0e9936eaa27e"
      },
      "outputs": [
        {
          "name": "stdout",
          "output_type": "stream",
          "text": [
            "11.313708498984761\n"
          ]
        }
      ],
      "source": [
        "#QUal é a medida da diagonal de um quadrado cujo lado mede 8 cm?\n",
        "'''\n",
        "  Fórmula\n",
        "  d² = l² + l²\n",
        "  d² ** 2 = 2l² \n",
        "  d = v(2l²)\n",
        "  d= lv2 = ?\n",
        "'''\n",
        "l = 8\n",
        "diagonal = ((l ** 2) + (l ** 2))** (0.5) # 2l**2  (**)= elevado\n",
        "print(diagonal)"
      ]
    },
    {
      "cell_type": "code",
      "execution_count": null,
      "metadata": {
        "colab": {
          "base_uri": "https://localhost:8080/"
        },
        "id": "3iM1Kmaqw62M",
        "outputId": "d90f25cb-d23b-48bd-808c-9bad75432054"
      },
      "outputs": [
        {
          "name": "stdout",
          "output_type": "stream",
          "text": [
            "20\n"
          ]
        }
      ],
      "source": [
        "#Qual é o diametro de um círculo cujo o raio mede 10 cm?\n",
        "'''Fórmula\n",
        "  d=2r\n",
        "'''\n",
        "r = 10\n",
        "diametroCirculo = 2 * r\n",
        "print(diametroCirculo)"
      ]
    },
    {
      "cell_type": "code",
      "execution_count": null,
      "metadata": {
        "colab": {
          "base_uri": "https://localhost:8080/"
        },
        "id": "9ZaiI5PvxWFf",
        "outputId": "9c56f799-98c6-4dbe-8043-226d3e3f2f50"
      },
      "outputs": [
        {
          "name": "stdout",
          "output_type": "stream",
          "text": [
            "31.400000000000002\n"
          ]
        }
      ],
      "source": [
        "#Qual é o perímetro de um círculo cujo raio mede 5 cm?\n",
        "'''Fórmula\n",
        "  P= 2 pi . r\n",
        "  pi = 3.14\n",
        "'''\n",
        "r = 5\n",
        "pi = 3.14\n",
        "perimetroCirculo = 2 * pi * r\n",
        "print(perimetroCirculo)"
      ]
    },
    {
      "cell_type": "code",
      "execution_count": null,
      "metadata": {
        "colab": {
          "base_uri": "https://localhost:8080/"
        },
        "id": "yNCCozUlx-yX",
        "outputId": "ad1b8d84-7434-4deb-e6a8-91d9cb7314f8"
      },
      "outputs": [
        {
          "name": "stdout",
          "output_type": "stream",
          "text": [
            "5.0\n"
          ]
        }
      ],
      "source": [
        "#Ache o comprimento da hipotenusa de lados 3cm e 4cm\n",
        "''' Fórmula\n",
        "  a2 + b2 = c = V25 = 5\n",
        "'''\n",
        "a = 3\n",
        "b = 4\n",
        "c2 = a ** 2 + b ** 2\n",
        "hipotenusa = c2 ** 0.5\n",
        "print(hipotenusa)"
      ]
    },
    {
      "cell_type": "markdown",
      "metadata": {
        "id": "_VyzGSHxyhVQ"
      },
      "source": [
        "## Estrutura de Decisão\n"
      ]
    },
    {
      "cell_type": "code",
      "execution_count": null,
      "metadata": {
        "colab": {
          "base_uri": "https://localhost:8080/"
        },
        "id": "9I8JX1-lykWC",
        "outputId": "2e298c28-ce94-4aef-baa0-f98cef73d75d"
      },
      "outputs": [
        {
          "name": "stdout",
          "output_type": "stream",
          "text": [
            "É menor que 10\n"
          ]
        }
      ],
      "source": [
        "# Exibir se o numero e[ maior ou menor que 10\n",
        "x = 10\n",
        "if(x > 10):\n",
        "  print('E maior que 10')\n",
        "else:\n",
        "  print('É menor que 10')"
      ]
    },
    {
      "cell_type": "code",
      "execution_count": null,
      "metadata": {
        "colab": {
          "base_uri": "https://localhost:8080/"
        },
        "id": "mu0QKX9u0Hkl",
        "outputId": "9b828b7f-5230-4f19-dcbd-1db209f500de"
      },
      "outputs": [
        {
          "name": "stdout",
          "output_type": "stream",
          "text": [
            "50 é maior\n"
          ]
        }
      ],
      "source": [
        "# Exibir o maior numero.\n",
        "x = 50\n",
        "y = 25\n",
        "if(x > y):\n",
        "  #faça\n",
        "  print(x, 'é maior') \n",
        "else: # Senão\n",
        "  #faça\n",
        "  print(y, 'é maior')"
      ]
    },
    {
      "cell_type": "code",
      "execution_count": null,
      "metadata": {
        "colab": {
          "base_uri": "https://localhost:8080/"
        },
        "id": "W8MV0pE81BSE",
        "outputId": "eca60639-0f03-4e13-ed2e-b4cb1b56ac81"
      },
      "outputs": [
        {
          "name": "stdout",
          "output_type": "stream",
          "text": [
            "40\n"
          ]
        }
      ],
      "source": [
        "# Exibir o maior número entre os 3\n",
        "a = 10\n",
        "b = 40\n",
        "c = -2\n",
        "\n",
        "if(a > b and a > c):\n",
        "  print(a)\n",
        "elif(b > a and b > c):\n",
        "  print(b)\n",
        "else:\n",
        "  print(c)"
      ]
    },
    {
      "cell_type": "code",
      "execution_count": null,
      "metadata": {
        "colab": {
          "base_uri": "https://localhost:8080/"
        },
        "id": "7RS0uNBx2Sbf",
        "outputId": "7d1e3f9f-9f34-44e9-88ce-faeb95ce6a93"
      },
      "outputs": [
        {
          "name": "stdout",
          "output_type": "stream",
          "text": [
            "Aprovado. Média:  7.0\n"
          ]
        }
      ],
      "source": [
        "#  Leia duas notas e exiba se o aluno esta aprovado ou reprovado. Para ser aprovado precisa de media igual ou maior que 7\n",
        "\n",
        "nota1 = 8\n",
        "nota2 = 6\n",
        "\n",
        "media = (nota1 + nota2) / 2\n",
        "if(media >= 7):\n",
        "  print('Aprovado. Média: ', media)\n",
        "else:\n",
        "  print('Reporvado. Média: ', media)"
      ]
    },
    {
      "cell_type": "code",
      "execution_count": null,
      "metadata": {
        "colab": {
          "base_uri": "https://localhost:8080/"
        },
        "id": "rYL1Td6R3Jtn",
        "outputId": "a72ae768-9aea-44e9-8cef-3590a5393463"
      },
      "outputs": [
        {
          "name": "stdout",
          "output_type": "stream",
          "text": [
            "È um triângulo\n"
          ]
        }
      ],
      "source": [
        "# Condições de existencia de um triangulo\n",
        "'''\n",
        "  a + b > c\n",
        "  b + c > a\n",
        "  a + c > b\n",
        "'''\n",
        "a = 10\n",
        "b = 8\n",
        "c = 7\n",
        "\n",
        "if(a + b > c and b + c > a and a + c > b):\n",
        "  print('È um triângulo')\n",
        "else:\n",
        "  print('não é um triângulo') "
      ]
    },
    {
      "cell_type": "code",
      "execution_count": null,
      "metadata": {
        "colab": {
          "base_uri": "https://localhost:8080/"
        },
        "id": "Pw0WBSiD4H_A",
        "outputId": "969ab2ea-bd59-4e35-efd2-18008d7f965d"
      },
      "outputs": [
        {
          "name": "stdout",
          "output_type": "stream",
          "text": [
            "Aprvado. Média:  7.666666666666667\n"
          ]
        }
      ],
      "source": [
        "# Ler 3 notas e verificar se o aluo está Aprovado (>= 7), em Recuperação (> 4 e <7) ou reprovado (<= 4 )\n",
        "nota1 = 5\n",
        "nota2 = 8\n",
        "nota3 = 10\n",
        "\n",
        "media = (nota1 + nota2 + nota3) / 3\n",
        "\n",
        "if(media >= 7):\n",
        "  print('Aprovado. Média: ', media)\n",
        "elif(media > 4 and media < 7):\n",
        "  print('Recuperação. Média: ', media)\n",
        "else:\n",
        "  print('Reprovado. Média: ', media)"
      ]
    },
    {
      "cell_type": "code",
      "execution_count": null,
      "metadata": {
        "colab": {
          "base_uri": "https://localhost:8080/"
        },
        "id": "sreyj4Ut58rs",
        "outputId": "5848c9ee-c8ed-49c6-d214-a7060a95cec0"
      },
      "outputs": [
        {
          "name": "stdout",
          "output_type": "stream",
          "text": [
            "Peso normal. IMC:  22.86\n"
          ]
        }
      ],
      "source": [
        " # Calcule e de exiba as metricas do IMC de uma pessoa\n",
        "'''\n",
        " Fórmula\n",
        "  Abaixo do peso INferior a 18,5\n",
        "  Peso normal 18,5 a 24,9\n",
        "  Excesso de peso 25,0 a 29,9\n",
        "  Obeso 30 ou mais\n",
        "\n",
        "  imc = peso / altura²\n",
        "'''\n",
        "peso = 70\n",
        "altura = 175/ 100 # converter de metros para cm\n",
        "\n",
        "imc = round((peso / altura **2 ), 2) #round (valor, 2) -> arredondar em 2 numeros\n",
        "\n",
        "if(imc < 18.5):\n",
        "  print('Abaixo do peso. IMC: ', imc)\n",
        "elif(imc >= 18.5 and imc < 24.9):\n",
        "  print('Peso normal. IMC: ', imc)\n",
        "elif(imc < 30):\n",
        "  print('Excesso de peso. IMC: ', imc)\n",
        "else:\n",
        "  print('Obeso. IMC: ', imc)"
      ]
    },
    {
      "cell_type": "code",
      "execution_count": null,
      "metadata": {
        "colab": {
          "base_uri": "https://localhost:8080/"
        },
        "id": "sgAdGlcJ9K9v",
        "outputId": "df5e39bf-cb42-4801-879e-c223e8e30059"
      },
      "outputs": [
        {
          "name": "stdout",
          "output_type": "stream",
          "text": [
            "O triangulo é isósceles\n"
          ]
        }
      ],
      "source": [
        "# Leia os Lados de um triangulo e diga o nome do triangulo\n",
        "'''\n",
        "  Triangulo equilatero == 3 lados iguais\n",
        "  Triangulo isósceles == 2 lados iguais\n",
        "  Triangulo escaleno != 3 lados diferentes\n",
        "'''\n",
        "lado1 = 10\n",
        "lado2 = 10\n",
        "lado3 = 9\n",
        "\n",
        "if(lado1 == lado2 and lado1 == lado3 and lado2 == lado3):\n",
        "  print('O triangulo é equilatero')\n",
        "elif(lado1 == lado2 or lado1 == lado3 or lado2 == lado3 ):\n",
        "  print('O triangulo é isósceles')\n",
        "else:\n",
        "  print('O triangulo é escaleno')"
      ]
    }
  ],
  "metadata": {
    "colab": {
      "name": "aula1.ipynb",
      "provenance": []
    },
    "kernelspec": {
      "display_name": "Python 3",
      "name": "python3"
    },
    "language_info": {
      "name": "python"
    }
  },
  "nbformat": 4,
  "nbformat_minor": 0
}
