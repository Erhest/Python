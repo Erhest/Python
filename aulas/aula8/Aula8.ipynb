{
  "nbformat": 4,
  "nbformat_minor": 0,
  "metadata": {
    "colab": {
      "name": "Aula8.ipynb",
      "provenance": []
    },
    "kernelspec": {
      "name": "python3",
      "display_name": "Python 3"
    },
    "language_info": {
      "name": "python"
    }
  },
  "cells": [
    {
      "cell_type": "markdown",
      "source": [
        "# Python\n",
        "\n",
        "# Exercicios Lista e Funções\n",
        "\n",
        "#### Ler um vetor com 10 nomes de pessoas, após pedir que o usuário digite um nome qualquer de pessoa. Escrever a mensagem \"Achei\", se o nome estiver armazenado."
      ],
      "metadata": {
        "id": "emsI2EpfwTwH"
      }
    },
    {
      "cell_type": "code",
      "execution_count": null,
      "metadata": {
        "colab": {
          "base_uri": "https://localhost:8080/"
        },
        "id": "7X0ar7vcvZAw",
        "outputId": "27db43d5-2485-49b0-98b9-dfd44687cfa9"
      },
      "outputs": [
        {
          "output_type": "stream",
          "name": "stdout",
          "text": [
            "Cadastre um nome: asd\n",
            "Cadastre um nome: dsa\n",
            "Cadastre um nome: sda\n",
            "Pesquise um nome: asd\n",
            "Achei\n"
          ]
        }
      ],
      "source": [
        "def perguntaNome(msg):\n",
        "  return input(msg)\n",
        "nomes = []\n",
        "for i in range(3):\n",
        "  nomes.append(perguntaNome('Cadastre um nome: '))\n",
        "\n",
        "nome = perguntaNome('Pesquise um nome: ')\n",
        "\n",
        "if nome in nomes : \n",
        "  print('Achei')\n",
        "else:\n",
        "  print('Não achei')"
      ]
    },
    {
      "cell_type": "code",
      "source": [
        "''' \n",
        "1. Faca um programa que possua um vetor denominado A que armazene 6 numeros intei- ´\n",
        "ros. O programa deve executar os seguintes passos:\n",
        "    (a) Atribua os seguintes valores a esse vetor: 1, 0, 5, -2, -5, 7.\n",
        "    (b) Armazene em uma variavel inteira (simples) a soma entre os valores das posic¸ ´ oes ˜\n",
        "    A[0], A[1] e A[5] do vetor e mostre na tela esta soma.\n",
        "    (c) Modifique o vetor na posic¸ao 4, atribuindo a esta posic¸ ˜ ao o valor 100. ˜\n",
        "    (d) Mostre na tela cada valor do vetor A, um em cada linha.\n",
        "\n",
        "'''\n",
        "def somarLista(x, y, z):\n",
        "  return A[x] + A[y] + A[z]\n",
        "\n",
        "def alterarLista(indice, valor):\n",
        "  A[indice] = valor\n",
        "def listarItens():\n",
        "  print('LISTA')\n",
        "  for valor in A:\n",
        "    print(valor)\n",
        "\n",
        "A = [1, 0, 5, -2, -5, 7]\n",
        "soma = somarLista(0, 1, 5)\n",
        "print(f' O total do somatório foi {soma}')\n",
        "alterarLista(4, 100)\n",
        "# A[4] = 100\n",
        "\n",
        "# Exibir cada valor da lista em uma linha\n",
        "for i in range(len(A)):\n",
        "  print(A[i])"
      ],
      "metadata": {
        "colab": {
          "base_uri": "https://localhost:8080/"
        },
        "id": "70fv-125xKuG",
        "outputId": "b4e1eb5e-ef6f-49fa-af62-6c789421c3d1"
      },
      "execution_count": null,
      "outputs": [
        {
          "output_type": "stream",
          "name": "stdout",
          "text": [
            " O total do somatório foi 8\n",
            "1\n",
            "0\n",
            "5\n",
            "-2\n",
            "100\n",
            "7\n"
          ]
        }
      ]
    },
    {
      "cell_type": "code",
      "source": [
        "# 2. Crie um programa que le 6 valores inteiros e, em seguida, mostre na tela os valores lidos.\n",
        "def testarInteiro(teste):\n",
        "  while(True):\n",
        "    if(teste.isnumeric()):\n",
        "      return int(teste)\n",
        "    else:\n",
        "      teste = input('Digite um número inteiro')\n",
        "\n",
        "def receberValores():\n",
        "  valor = input('Digite um numero inteiro R: ')\n",
        "  return testarInteiro()\n",
        "  \n",
        "def salvarValores(qnt):\n",
        "  for i in range(6):\n",
        "    valores.append(receberValores())\n",
        "\n",
        "valores = []\n",
        "\n",
        "salvarValores(6)\n",
        "print(valores)"
      ],
      "metadata": {
        "colab": {
          "base_uri": "https://localhost:8080/"
        },
        "id": "BuPuYajXyTC_",
        "outputId": "8187976a-ba5c-4ceb-f43b-9344bbba979c"
      },
      "execution_count": null,
      "outputs": [
        {
          "output_type": "stream",
          "name": "stdout",
          "text": [
            "Digite um numero inteiro R: 12\n",
            "Digite um numero inteiro R: 13\n",
            "Digite um numero inteiro R: 46\n",
            "Digite um numero inteiro R: 11\n",
            "Digite um numero inteiro R: 20\n",
            "Digite um numero inteiro R: 1\n",
            "['12', '13', '46', '11', '20', '1']\n"
          ]
        }
      ]
    },
    {
      "cell_type": "code",
      "source": [
        "''' \n",
        "    3. Ler um conjunto de numeros reais, armazenando-o em vetor e calcular o quadrado das ´\n",
        "    componentes deste vetor, armazenando o resultado em outro vetor. Os conjuntos temˆ\n",
        "    10 elementos cada. Imprimir todos os conjuntos.\n",
        "\n",
        "'''\n",
        "def lerNumerosReais():\n",
        "  return float(input('Digite um número: '))\n",
        "\n",
        "def gravarNumeros(qnt):\n",
        "  for i in range(qnt):\n",
        "    numeros.append(lerNumerosReais())\n",
        "\n",
        "def gerarQuadradoNumeros():\n",
        "  for i in range(len(numeros)):\n",
        "    numerosQuadrados.append(numeros[i] * numeros[i])\n",
        "  gerarQuadradoNumeros()\n",
        "\n",
        "numeros = []\n",
        "numerosQuadrados = []\n",
        "\n",
        "\n",
        "gravarNumeros(3)\n",
        "print(numeros)\n",
        "gerarQuadradoNumeros()\n",
        "print(numerosQuadrados)"
      ],
      "metadata": {
        "colab": {
          "base_uri": "https://localhost:8080/"
        },
        "id": "J-xBeBmo19td",
        "outputId": "6eb9403a-6603-42e5-c661-71848af501a7"
      },
      "execution_count": null,
      "outputs": [
        {
          "output_type": "stream",
          "name": "stdout",
          "text": [
            "Digite um número: 15\n",
            "Digite um número: 20\n",
            "Digite um número: 10\n",
            "[15.0, 20.0, 10.0]\n",
            "[225.0, 400.0, 100.0]\n"
          ]
        }
      ]
    },
    {
      "cell_type": "code",
      "source": [
        "'''\n",
        "4. Fazer um menu de uma plataforma que pode LOGAR, CADASTRAR, LISTAR USUARIO / SENHA e  SAIR\n",
        "    (a) Login -> Usuario e Senha\n",
        "        (1) Usuário deve ser encontrado no banco\n",
        "        (2) Senha deve ser igual a do usuário do banco\n",
        "        (3) Exibir error se o usuário não for encontrado\n",
        "        (4) Exibir erro de senha, se não for igual\n",
        "        (5) Exibir msg logado\n",
        "    (b) Cadastrar -> Usuário, senha e confirmar senha \n",
        "        (1) Usuário deve ser único no banco\n",
        "        (2) Senhas deve ser iguais, maiores que 5 caracteres e alfanumericos\n",
        "        (3) Exibir error se o usuário ja estiver cadastrado e pedir para usar novo Usuário\n",
        "        (4) Exibir erro de senha, se for menor que 6 e se não forem iguais \n",
        "        (5) Exibir msg de cadastrado e Voltar para o menu de login\n",
        "    (c) Listar Usuario e Senha\n",
        "        (1) Nome ususario -  ***\n",
        "    (d) SAIR\n",
        "'''\n",
        "\n",
        "def linhas(qnt):\n",
        "  print('=' * (qnt + 2))\n",
        "\n",
        "def exibirMensagens(msg):\n",
        "  linhas(len(msg))\n",
        "  print(msg)\n",
        "  linhas(len(msg))\n",
        "\n",
        "def menu():\n",
        "  exibirMensagens('PADARIA SONHO DOCE')\n",
        "  return int(input(' 1 - LOGAR \\n 2 - CADASTRAR \\n 3 - LISTAR \\n 4 - SAIR \\n R: '))\n",
        "\n",
        "def listarUsuario():\n",
        "  exibirMensagens('LISTA DE USUÁRIOS')\n",
        "  for i in range(len(usuarios)):\n",
        "    print(f'Usuário {usuarios[i]} - Senha: {senhas[i]}')\n",
        "  linhas(20)\n",
        "\n",
        "def verificaSenha(usuario, senha):\n",
        "  if(usuario in usuarios):\n",
        "    indice = usuario.index(usuario)\n",
        "    if(senha in senhas[indice]):\n",
        "      return True\n",
        "    else:\n",
        "      return False\n",
        "  else: \n",
        "    return False\n",
        "\n",
        "def logar():\n",
        "  usuario = receberDadosDoUsuario('Digite seu nome de usuário R: ')\n",
        "  if(not verificaUsuario(usuario)):\n",
        "    exibirMensagens('ERROR: Usuário nãoo encontrado!')\n",
        "  else:\n",
        "    senha = receberDadosDoUsuario('Digite sua senha R: ')\n",
        "    if(not verificaSenha(usuario, senha)):\n",
        "      exibirMensagens('Senha Incorreta')\n",
        "      return False\n",
        "    else: \n",
        "      return True\n",
        "\n",
        "\n",
        "def receberDadosDoUsuario(msg):\n",
        "  return input(msg)\n",
        "\n",
        "def verificaUsuario(usuario):\n",
        "  if(usuario in usuarios):\n",
        "    return True\n",
        "  else: \n",
        "    return False\n",
        "\n",
        "def cadastrar():\n",
        "  while(True):    \n",
        "    usuario = receberDadosDoUsuario('Digitre o nome de usuário R: ')\n",
        "    if(verificaUsuario(usuario)):\n",
        "      exibirMensagens('Error: usuário já é cadastrado. \\n Escolha outro nome de usuário!')\n",
        "    else:\n",
        "      senha = receberDadosDoUsuario('Digite sua senha R: ')\n",
        "      if(len(senha < 6 or not senha.isalpha())):\n",
        "        exibirMensagens('ERROR: Senha deve ter mais de 6 caracteres e ser alfanumérica')\n",
        "      else:\n",
        "        confirmaSenha = receberDadosDoUsuario('Confomre a senha R: ')\n",
        "        if(senha != confirmaSenha):\n",
        "          exibirMensagens('As senhas devem ser identicas')\n",
        "        else: \n",
        "          usuarios.append(usuario)\n",
        "          senhas.append(senha)\n",
        "          exibirMensagens(f'Usuário {usuario} cadastrado com sucesso')\n",
        "          break\n",
        "\n",
        "escolhaDoMenu = 0\n",
        "usuarios = ['Kenji', 'AKio']\n",
        "senhas = ['123456', '2580']\n",
        "while(True):\n",
        "  escolhaDoMenu = menu()\n",
        "  if(escolhaDoMenu == 1):    \n",
        "    if(logar() == True):\n",
        "      exibirMensagens('Usuário conectado com sucesso')\n",
        "      break\n",
        "  elif(escolhaDoMenu == 2):\n",
        "    print('Cadastrar')\n",
        "  elif(escolhaDoMenu == 3):\n",
        "    print('Listar')\n",
        "  else:\n",
        "    print('Sair')\n",
        "    break\n",
        "\n",
        "  "
      ],
      "metadata": {
        "colab": {
          "base_uri": "https://localhost:8080/"
        },
        "id": "lzpHPBWQ464G",
        "outputId": "b1d1bbb1-e987-441b-ba9b-67640c8925b3"
      },
      "execution_count": null,
      "outputs": [
        {
          "output_type": "stream",
          "name": "stdout",
          "text": [
            "====================\n",
            "PADARIA SONHO DOCE\n",
            "====================\n",
            " 1 - LOGAR \n",
            " 2 - CADASTRAR \n",
            " 3 - LISTAR \n",
            " 4 - SAIR \n",
            " R: 1\n",
            "Digite seu nome de usuário R: Kenji\n",
            "Digite sua senha R: 123456\n",
            "===============================\n",
            "Usuário conectado com sucesso\n",
            "===============================\n"
          ]
        }
      ]
    }
  ]
}