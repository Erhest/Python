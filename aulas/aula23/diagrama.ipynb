{
 "cells": [
  {
   "cell_type": "markdown",
   "metadata": {},
   "source": [
    "### Editora\n",
    "    - codEditora: int\n",
    "    - razaoSocial: string\n",
    "    - email: string\n",
    "    - telefone: string\n",
    "\n",
    "+ gerarCodigo()\n",
    "+ listarEditora()\n",
    "\n",
    "### Livro\n",
    "    - codigo: int\n",
    "    - titulo: string\n",
    "    -idioma\n",
    "    -editora : Editora\n",
    "\n",
    "+ gerarCodigo()\n",
    "+ listarLivro()"
   ]
  }
 ],
 "metadata": {
  "kernelspec": {
   "display_name": "Python 3.10.5 64-bit",
   "language": "python",
   "name": "python3"
  },
  "language_info": {
   "name": "python",
   "version": "3.10.5"
  },
  "orig_nbformat": 4,
  "vscode": {
   "interpreter": {
    "hash": "3b79a9603654acc1a1dda7ab9d7fbeea5670a7835087b35cd5f08522a1762abf"
   }
  }
 },
 "nbformat": 4,
 "nbformat_minor": 2
}
