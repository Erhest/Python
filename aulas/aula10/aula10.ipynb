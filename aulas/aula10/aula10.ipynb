{
 "cells": [
  {
   "cell_type": "code",
   "execution_count": null,
   "metadata": {},
   "outputs": [],
   "source": [
    "# 1 -  Leia 5 valores, mostre a média dos numeros e a soma\n",
    "\n",
    "numeros = []\n",
    "\n",
    "#numeros.insert[indice] = media\n",
    "# numeros.append(valor) -> Adiciona ao final da lista\n",
    "\n",
    "for i in range(5):\n",
    "    numeros.append(int(input('Digite um valor: ')))\n",
    "#print(numeros)\n",
    "\n",
    "soma = 0\n",
    "for numero in numeros:\n",
    "    soma += numero\n",
    "    media = soma / len(numeros)\n",
    "\n",
    "print(soma)\n",
    "print(media)\n",
    "\n"
   ]
  },
  {
   "cell_type": "code",
   "execution_count": 1,
   "metadata": {},
   "outputs": [
    {
     "name": "stdout",
     "output_type": "stream",
     "text": [
      "Números são iguais.\n"
     ]
    }
   ],
   "source": [
    "# 2- Verifique se 2 numeros digitados são iguais\n",
    "\n",
    "#if(x == y):\n",
    "\n",
    "x = int(input('Digite um numero: '))\n",
    "y = int(input('Digite um numero: '))\n",
    "\n",
    "if(x == y):\n",
    "    print('Números são iguais.')\n",
    "else:\n",
    "    print('Números não são iguais.')"
   ]
  },
  {
   "cell_type": "code",
   "execution_count": 3,
   "metadata": {},
   "outputs": [
    {
     "name": "stdout",
     "output_type": "stream",
     "text": [
      "18\n",
      "3.6\n"
     ]
    }
   ],
   "source": [
    "# 1.5 - exercicio anterior com WHILE\n",
    "\n",
    "numeros= []\n",
    "\n",
    "contador = 0\n",
    "while(contador < 5):\n",
    "    numeros.append(int(input('Digite um valor: ')))\n",
    "    contador += 1\n",
    "\n",
    "soma = 0\n",
    "contador = 0\n",
    "while(contador < len(numeros)):\n",
    "    soma += numeros[contador]\n",
    "    contador += 1\n",
    "\n",
    "media = soma / len(numeros)\n",
    "\n",
    "print(soma)\n",
    "print(media)"
   ]
  },
  {
   "cell_type": "code",
   "execution_count": null,
   "metadata": {},
   "outputs": [],
   "source": [
    "numeros = []\n",
    "\n",
    "for i in range(0, 2):\n",
    "    numeros.append(int(input('Digite um numero: ')))\n",
    "\n",
    "if(numeros[0] == numeros[1]):\n",
    "    print('São iguais')\n",
    "else:\n",
    "    print('São diferentes')"
   ]
  },
  {
   "cell_type": "code",
   "execution_count": 9,
   "metadata": {},
   "outputs": [
    {
     "name": "stdout",
     "output_type": "stream",
     "text": [
      "Farinha\n",
      "Arroz\n",
      "Feijão\n",
      "Farofa\n",
      "Ervilha\n",
      "Milho\n",
      "Biscoito\n",
      "Farinha\n",
      "Arroz\n",
      "Feijão\n",
      "Farofa\n",
      "Ervilha\n",
      "Milho\n",
      "Biscoito\n",
      "Farinha   Farinha\n",
      "Arroz   Arroz\n",
      "Feijão   Feijão\n",
      "Farofa   Farofa\n",
      "Ervilha   Ervilha\n",
      "Milho   Milho\n",
      "Biscoito   Biscoito\n"
     ]
    },
    {
     "ename": "TypeError",
     "evalue": "'tuple' object is not callable",
     "output_type": "error",
     "traceback": [
      "\u001b[1;31m---------------------------------------------------------------------------\u001b[0m",
      "\u001b[1;31mTypeError\u001b[0m                                 Traceback (most recent call last)",
      "\u001b[1;32mc:\\Users\\hashi\\OneDrive\\Área de Trabalho\\Curso\\Python\\aulas\\aula10\\aula10.ipynb Célula: 5\u001b[0m in \u001b[0;36m<cell line: 16>\u001b[1;34m()\u001b[0m\n\u001b[0;32m     <a href='vscode-notebook-cell:/c%3A/Users/hashi/OneDrive/%C3%81rea%20de%20Trabalho/Curso/Python/aulas/aula10/aula10.ipynb#ch0000004?line=14'>15</a>\u001b[0m contador \u001b[39m=\u001b[39m \u001b[39m0\u001b[39m\n\u001b[0;32m     <a href='vscode-notebook-cell:/c%3A/Users/hashi/OneDrive/%C3%81rea%20de%20Trabalho/Curso/Python/aulas/aula10/aula10.ipynb#ch0000004?line=15'>16</a>\u001b[0m \u001b[39mwhile\u001b[39;00m(contador \u001b[39m<\u001b[39m \u001b[39mlen\u001b[39m(prateleira)):\n\u001b[1;32m---> <a href='vscode-notebook-cell:/c%3A/Users/hashi/OneDrive/%C3%81rea%20de%20Trabalho/Curso/Python/aulas/aula10/aula10.ipynb#ch0000004?line=16'>17</a>\u001b[0m     \u001b[39mprint\u001b[39m(prateleira(contador))\n\u001b[0;32m     <a href='vscode-notebook-cell:/c%3A/Users/hashi/OneDrive/%C3%81rea%20de%20Trabalho/Curso/Python/aulas/aula10/aula10.ipynb#ch0000004?line=17'>18</a>\u001b[0m     contador \u001b[39m+\u001b[39m\u001b[39m=\u001b[39m \u001b[39m1\u001b[39m\n",
      "\u001b[1;31mTypeError\u001b[0m: 'tuple' object is not callable"
     ]
    }
   ],
   "source": [
    "# Liste todos os itens da prateleira do mercado em linhas diferentes\n",
    "# prateleira = ('Farinha', 'Arroz', 'Feijão', 'Farofa', 'Ervilha', 'Milho', 'Biscoito')\n",
    "\n",
    "prateleira = ('Farinha', 'Arroz', 'Feijão', 'Farofa', 'Ervilha', 'Milho', 'Biscoito')\n",
    "\n",
    "for item in prateleira:\n",
    "    print(item)\n",
    "\n",
    "for i in range(len(prateleira)): # i recebe o indice\n",
    "    print(prateleira[i])\n",
    "\n",
    "for i, item in enumerate(prateleira):\n",
    "    print(prateleira[i], ' ', item)\n",
    "\n",
    "contador = 0\n",
    "while(contador < len(prateleira)):\n",
    "    print(prateleira(contador))\n",
    "    contador += 1"
   ]
  },
  {
   "cell_type": "code",
   "execution_count": 10,
   "metadata": {},
   "outputs": [
    {
     "name": "stdout",
     "output_type": "stream",
     "text": [
      "Tem\n"
     ]
    }
   ],
   "source": [
    "# Pesquisar um item na prateleira do exercicio anterior e dizer se tem ou não\n",
    "\n",
    "busca = input('Digite o nome de um produto: ')\n",
    "\n",
    "if(busca.capitalize() in prateleira):\n",
    "    print('Tem')\n",
    "else:\n",
    "    print('Não tem')"
   ]
  },
  {
   "cell_type": "code",
   "execution_count": 11,
   "metadata": {},
   "outputs": [
    {
     "name": "stdout",
     "output_type": "stream",
     "text": [
      "Não tem o produto\n"
     ]
    }
   ],
   "source": [
    "busca = input('Digite o nome de um produto: ')\n",
    "achou = False\n",
    "\n",
    "for item in prateleira:\n",
    "    if(busca.lower() == item.lower()):\n",
    "        achou = True\n",
    "\n",
    "if(achou):\n",
    "    print('Tem o produto')\n",
    "else:\n",
    "    print('Não tem o produto')"
   ]
  }
 ],
 "metadata": {
  "kernelspec": {
   "display_name": "Python 3.10.5 64-bit",
   "language": "python",
   "name": "python3"
  },
  "language_info": {
   "codemirror_mode": {
    "name": "ipython",
    "version": 3
   },
   "file_extension": ".py",
   "mimetype": "text/x-python",
   "name": "python",
   "nbconvert_exporter": "python",
   "pygments_lexer": "ipython3",
   "version": "3.10.5"
  },
  "orig_nbformat": 4,
  "vscode": {
   "interpreter": {
    "hash": "3b79a9603654acc1a1dda7ab9d7fbeea5670a7835087b35cd5f08522a1762abf"
   }
  }
 },
 "nbformat": 4,
 "nbformat_minor": 2
}
