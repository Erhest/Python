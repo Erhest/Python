{
 "cells": [
  {
   "cell_type": "code",
   "execution_count": null,
   "metadata": {},
   "outputs": [],
   "source": [
    "print('Hello')"
   ]
  },
  {
   "cell_type": "code",
   "execution_count": 23,
   "metadata": {},
   "outputs": [
    {
     "name": "stdout",
     "output_type": "stream",
     "text": [
      "5050\n",
      "5050\n"
     ]
    }
   ],
   "source": [
    "# calcular a soma dos 100 primerios numeros naturais\n",
    "soma = 0\n",
    "for i in range(101):\n",
    "  soma = soma + i\n",
    "print(soma)\n",
    "\n",
    "somaNum = 0\n",
    "cont = 0\n",
    "while cont < 101:\n",
    "  somaNum += cont\n",
    "  cont += 1\n",
    "print(somaNum)\n"
   ]
  },
  {
   "cell_type": "code",
   "execution_count": 32,
   "metadata": {},
   "outputs": [
    {
     "name": "stdout",
     "output_type": "stream",
     "text": [
      "0\n",
      "7\n",
      "14\n",
      "21\n",
      "28\n"
     ]
    }
   ],
   "source": [
    "# imprimir os multiplos de 7 menores que 200\n",
    "'''\n",
    "for i in range(200):\n",
    "    if i % 7 == 0:\n",
    "        print(i)\n",
    "'''\n",
    "cont = 0\n",
    "while True:\n",
    "    valor = cont * 7\n",
    "    if(valor < 200):\n",
    "        print(valor)\n",
    "        cont += 1\n",
    "    else:\n",
    "        break\n",
    "\n"
   ]
  },
  {
   "cell_type": "code",
   "execution_count": 38,
   "metadata": {},
   "outputs": [
    {
     "name": "stdout",
     "output_type": "stream",
     "text": [
      "4 x 0 = 0\n",
      "4 x 1 = 4\n",
      "4 x 2 = 8\n",
      "4 x 3 = 12\n",
      "4 x 4 = 16\n",
      "4 x 5 = 20\n",
      "4 x 6 = 24\n",
      "4 x 7 = 28\n",
      "4 x 8 = 32\n",
      "4 x 9 = 36\n",
      "4 x 10 = 40\n"
     ]
    }
   ],
   "source": [
    "# imprimir a tabuada do número 4\n",
    "num = 4\n",
    "for i in range(0, 11):\n",
    "  print('{} x {} = {}' .format(num, i, i * num))\n"
   ]
  },
  {
   "cell_type": "code",
   "execution_count": 37,
   "metadata": {},
   "outputs": [
    {
     "name": "stdout",
     "output_type": "stream",
     "text": [
      "11 x 0 = 0\n",
      "11 x 1 = 11\n",
      "11 x 2 = 22\n",
      "11 x 3 = 33\n",
      "11 x 4 = 44\n",
      "11 x 5 = 55\n",
      "11 x 6 = 66\n",
      "11 x 7 = 77\n",
      "11 x 8 = 88\n",
      "11 x 9 = 99\n",
      "11 x 10 = 110\n"
     ]
    }
   ],
   "source": [
    "# impirmir a tabuada de qualquer numero\n",
    "num = int(input('Coloque o número da tabuada: '))\n",
    "for i in range(0, 11):\n",
    "  print('{} x {} = {}' .format(num, i, i * num))"
   ]
  },
  {
   "cell_type": "code",
   "execution_count": 43,
   "metadata": {},
   "outputs": [
    {
     "name": "stdout",
     "output_type": "stream",
     "text": [
      "43.0\n"
     ]
    }
   ],
   "source": [
    "# calcular e mostrar a média aritmética dos numeros pares compreendidos entre 13 e 73\n",
    "soma = 0\n",
    "contador = 0\n",
    "for i in range(13, 73):\n",
    "    if i % 2 == 0:\n",
    "        soma = soma + i\n",
    "        contador = contador + 1\n",
    "media = soma / contador\n",
    "\n",
    "print(media)"
   ]
  },
  {
   "cell_type": "code",
   "execution_count": 45,
   "metadata": {},
   "outputs": [
    {
     "name": "stdout",
     "output_type": "stream",
     "text": [
      "0 1 1 2 3 5 8 13 21 34 55 89 "
     ]
    }
   ],
   "source": [
    "'''\n",
    "    A série de Fibonacci é uma seqüência de termos que tem como os 2 primeiros termos,\n",
    "    respectivamente, os números 0 e 1. A partir daí, os demais termos são formados seguindo uma\n",
    "    certa regra. A série de Fibonacci pode ser vista a seguir:\n",
    "                                0 1 1 2 3 5 8 13 21...\n",
    "    Descubra a regra que gera a seqüência da série de Fibonacci e escreva um algoritmo que gere\n",
    "    os n (solicitados pelo usuário) primeiros termos desta série e calcula e escreve a soma destes\n",
    "    termos.\n",
    "'''\n",
    "antNum = 0\n",
    "atual = 1\n",
    "proxNum = 0\n",
    "print(antNum, end=' ')\n",
    "print(atual, end=' ')\n",
    "for i in range(10):\n",
    "    proxNum = atual + antNum\n",
    "    print(proxNum, end=' ')\n",
    "    antNum = atual\n",
    "    atual = proxNum\n"
   ]
  },
  {
   "cell_type": "code",
   "execution_count": 51,
   "metadata": {},
   "outputs": [
    {
     "name": "stdout",
     "output_type": "stream",
     "text": [
      "Juros R$ 336.0\n",
      "28.0%\n",
      "Montante R$: 1536.0\n"
     ]
    }
   ],
   "source": [
    "# uma pessoa aplicou o capital de R$ 1.200,00 a taxa de 2% ao mês durante 14 meses. Determine os juros e o montante dessa aplicação.\n",
    "'''\n",
    "    J = C x i x t\n",
    "\n",
    "    onde:\n",
    "    J = juros simples;\n",
    "    C = capital inicial;\n",
    "    i = taxa de juros;\n",
    "    t = tempo de aplicação.\n",
    "'''\n",
    "\n",
    "J = 1200 * 0.02 * 14\n",
    "juros = 33600 / 1200\n",
    "montante = 1200 + J\n",
    "print(f'Juros R$ {J}')\n",
    "print(f'{juros}%')\n",
    "print(f'Montante R$: {montante}')"
   ]
  }
 ],
 "metadata": {
  "kernelspec": {
   "display_name": "Python 3.10.5 64-bit",
   "language": "python",
   "name": "python3"
  },
  "language_info": {
   "codemirror_mode": {
    "name": "ipython",
    "version": 3
   },
   "file_extension": ".py",
   "mimetype": "text/x-python",
   "name": "python",
   "nbconvert_exporter": "python",
   "pygments_lexer": "ipython3",
   "version": "3.10.5"
  },
  "orig_nbformat": 4,
  "vscode": {
   "interpreter": {
    "hash": "3b79a9603654acc1a1dda7ab9d7fbeea5670a7835087b35cd5f08522a1762abf"
   }
  }
 },
 "nbformat": 4,
 "nbformat_minor": 2
}
