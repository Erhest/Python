{
 "cells": [
  {
   "cell_type": "markdown",
   "metadata": {},
   "source": [
    "# Python\n",
    "## Revisão"
   ]
  },
  {
   "cell_type": "code",
   "execution_count": 3,
   "metadata": {},
   "outputs": [
    {
     "name": "stdout",
     "output_type": "stream",
     "text": [
      "Você está dentro do orçamento.\n"
     ]
    }
   ],
   "source": [
    "''' \n",
    "    Faça um programa que o usuário informe o salário recebido e o total gasto.\n",
    "    Deverá ser exibido na tela “Gastos dentro do orçamento” caso o valor gasto não\n",
    "    ultrapasse o valor do salário e “Orçamento estourado” se o valor gasto\n",
    "    ultrapassar o valor do salário.\n",
    "'''\n",
    "# PARA ONDE VOU -> FUNÇÃO DO MEU PROGRAMA (ENUNCIADO)\n",
    "# COMO VOU -> COMO EU FAÇO PARA CHEGAR LÁ\n",
    "def responderUsuario(msg):\n",
    "    print(msg)\n",
    "\n",
    "def receberDadosDoUsuario(msg):\n",
    "    return float(input(msg))\n",
    "\n",
    "\n",
    "def verificaGasto(sal, gasto):\n",
    "    if(gasto <= sal):\n",
    "        print('Você está dentro do orçamento.')\n",
    "    else:\n",
    "        (print('Você estorou o seu orçamento.'))\n",
    "\n",
    "salario = receberDadosDoUsuario('Digite seu salário: ')\n",
    "gasto = receberDadosDoUsuario('Digite o total do seu gasto mensal: ')\n",
    "\n",
    "verificaGasto(salario, gasto)\n"
   ]
  },
  {
   "cell_type": "code",
   "execution_count": 5,
   "metadata": {},
   "outputs": [
    {
     "name": "stdout",
     "output_type": "stream",
     "text": [
      "É um número inteiro\n",
      "A média aritmética é 38.0\n"
     ]
    }
   ],
   "source": [
    "''' \n",
    "    Escrever um programa em Python que lê um valor i, inteiro e positivo e 3 valores a, b e c. Se o valor de i é par então calcular e imprimir na tela a média aritmética de a, b e c. Caso contrário, se i>10 então calcular e imprimir na tela a média ponderada de a, b e c. Os pesos dos valores são respectivamente 2, 3 e 4.\n",
    "'''\n",
    "def receberDados(msg):\n",
    "    return input(msg)\n",
    "\n",
    "def verificaInteiro(valor):\n",
    "    if(valor.isnumeric()):\n",
    "        if(int(valor) > 0):\n",
    "            return True\n",
    "        else:\n",
    "            return False\n",
    "    else:\n",
    "        return False\n",
    "\n",
    "def convertInInt(valor):\n",
    "    return int(valor)\n",
    "\n",
    "\n",
    "\n",
    "\n",
    "while(True):\n",
    "    i = receberDados('Digite um número inteiro: ')\n",
    "    if(verificaInteiro(i)):\n",
    "        i = convertInInt(i)\n",
    "        print('É um número inteiro')\n",
    "        break\n",
    "    else:\n",
    "        print('Não é um numero inteiro')\n",
    "\n",
    "a = convertInInt(receberDados('Digite o valor de a: '))\n",
    "b = convertInInt(receberDados('Digite o valor de b: '))\n",
    "c = convertInInt(receberDados('Digite o valor de c: '))\n",
    "\n",
    "if(i % 2 == 0):\n",
    "    media = (a + b + c) / 3\n",
    "    print(f'A média aritmética é {media}')\n",
    "elif(i > 10):\n",
    "    media = ((a * 2) + (b * 3) + (c * 4)) / 9\n",
    "    print(f'A média ponderada é {media}')\n",
    "else:\n",
    "    print('Tchau')"
   ]
  },
  {
   "cell_type": "code",
   "execution_count": 6,
   "metadata": {},
   "outputs": [
    {
     "name": "stdout",
     "output_type": "stream",
     "text": [
      "Celsius para Fahrenheit\n",
      "23.0C são 73.4F\n"
     ]
    }
   ],
   "source": [
    "'''\n",
    "Faça um programa onde o usuario irá escolher se quer comverter graus celsius para Fahrenheit ou Fahrenheit para Celsius.\n",
    "'''\n",
    "\n",
    "menu = int(input(' 1 - Celsius para Fahrenheit \\n 2 - Fahrenheit para Celsius \\n 3 - Sair \\n R:'))\n",
    "if(menu == 1):\n",
    "    print('Celsius para Fahrenheit')\n",
    "    celsius = float(input('Digite a temperatura em Celsius: '))\n",
    "    formula = (celsius * (9/5) + 32)\n",
    "    print(f'{celsius} C são {formula} F')\n",
    "elif(menu == 2):\n",
    "    print('Fahrenheit para Celsius')\n",
    "    fahrenheit = float(input('Digite a temperatura em Fahrenheit: '))\n",
    "    formula = (fahrenheit - 32) * (5/9)\n",
    "    print(f'{fahrenheit} F são {formula} C')\n",
    "else:\n",
    "    print('Tchau')"
   ]
  },
  {
   "cell_type": "code",
   "execution_count": 11,
   "metadata": {},
   "outputs": [
    {
     "name": "stdout",
     "output_type": "stream",
     "text": [
      "2, 4, 6, 8, 10, 12, 14, 16, 18, 20, 22, 24, 26, 28, 30, 32, 34, 36, 38, 40, 42, 44, 46, 48, 50, 52, 54, 56, 58, 60, 62, 64, 66, 68, 70, 72, 74, 76, 78, 80, 82, 84, 86, 88, 90, 92, 94, 96, 98, 100, \n"
     ]
    }
   ],
   "source": [
    "# Fazer um programa para encontrar todos os números pares entre 1 a 100. \n",
    "'''\n",
    "for num in range(1, 101):\n",
    "    if(num % 2 == 0):\n",
    "        print(num)\n",
    "'''\n",
    "'''\n",
    "numeros = 1\n",
    "while(numeros < 101):\n",
    "    if(numeros % 2 == 0):\n",
    "        print(numeros)\n",
    "    numeros += 1\n",
    "\n",
    "numero = []\n",
    "for i in range(1, 101):\n",
    "    if(i % 2 == 0):\n",
    "        numero.append(i)\n",
    "print(numero)\n",
    "'''\n",
    "\n",
    "numerosPares = ''\n",
    "for i in range(1, 101):\n",
    "    if(i % 2 == 0):\n",
    "        if(i == 2):\n",
    "            numerosPares += f'{i}, '\n",
    "        elif(i == 100):\n",
    "            numerosPares += f'{i}, '\n",
    "        else:\n",
    "            numerosPares += f'{i}, '\n",
    "\n",
    "print(numerosPares)"
   ]
  }
 ],
 "metadata": {
  "kernelspec": {
   "display_name": "Python 3.10.5 64-bit",
   "language": "python",
   "name": "python3"
  },
  "language_info": {
   "codemirror_mode": {
    "name": "ipython",
    "version": 3
   },
   "file_extension": ".py",
   "mimetype": "text/x-python",
   "name": "python",
   "nbconvert_exporter": "python",
   "pygments_lexer": "ipython3",
   "version": "3.10.5"
  },
  "orig_nbformat": 4,
  "vscode": {
   "interpreter": {
    "hash": "3b79a9603654acc1a1dda7ab9d7fbeea5670a7835087b35cd5f08522a1762abf"
   }
  }
 },
 "nbformat": 4,
 "nbformat_minor": 2
}
